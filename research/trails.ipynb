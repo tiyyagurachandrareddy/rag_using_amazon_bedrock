{
 "cells": [
  {
   "cell_type": "code",
   "execution_count": 1,
   "metadata": {},
   "outputs": [],
   "source": [
    "import boto3\n",
    "import streamlit as st\n",
    "from langchain_community.llms import Bedrock\n",
    "from langchain.embeddings import BedrockEmbeddings\n",
    "from langchain.document_loaders import PyPDFDirectoryLoader\n",
    "from langchain.text_splitter import RecursiveCharacterTextSplitter\n",
    "from langchain.vectorstores import FAISS\n",
    "from langchain.prompts import PromptTemplate\n",
    "from langchain.chains import RetrievalQA"
   ]
  },
  {
   "cell_type": "code",
   "execution_count": 9,
   "metadata": {},
   "outputs": [
    {
     "name": "stdout",
     "output_type": "stream",
     "text": [
      "[Document(page_content='Branch (Master/Main) The main branch of updates and commits of ﬁles.  Other branches can be merged back to the master/main branch \\nBranch (Other) A separate track off the master/main branch.  Changes, updates, commits can be made independently of the master.  This can rejoin the master branch if required, \\nthrough an accepted pull-request \\nClone Downloading a copy of a repository to your local computer.  From there changes can be made and pushed back to the remote repository (with required permission) \\nCommit Similar to “save” - if we’re happy with the changes and we want to “commit” them.  If working from a local repository, you will need to commit and then push \\nchanges in order for the changes to be made in the remote repository.  Each commit has a unique commit ID used for moving between versions \\nFork Copying a repo and it’s entire history from one account to another \\nMerge Accepting and adding updated logic from a secondary branch to the master/main branch \\nMerge Conﬂict When two branches contain different changes to the same area of a ﬁle.  The owner of the master/main branch would be presented with options to resolve the \\nconﬂict.  Once the conﬂict has been resolved then the merge can take place. \\nPull & Push Pull is the process of bringing changes/ﬁles to your location from an external repository.  Push is the process of moving ﬁles changes/ﬁles to an external location \\nfrom your current repository \\nREADME ﬁle A text ﬁle that is often used to explain what is contained within the repository.  It is created and editing using Markdown code. \\nRepository A project directory.  It can contain folders, ﬁles, and documentation as well as each ﬁle’s revision history The Essential Github Lingo for Data Science ', metadata={'source': '..\\\\data\\\\Key Github Lingo for Data Science.pdf', 'page': 0})]\n"
     ]
    }
   ],
   "source": [
    "loader = PyPDFDirectoryLoader(\"../data\")\n",
    "documents = loader.load()\n",
    "print(documents)"
   ]
  },
  {
   "cell_type": "code",
   "execution_count": 10,
   "metadata": {},
   "outputs": [
    {
     "name": "stdout",
     "output_type": "stream",
     "text": [
      "[Document(page_content='Branch (Master/Main) The main branch of updates and commits of ﬁles.  Other branches can be merged back to the master/main branch \\nBranch (Other) A separate track off the master/main branch.  Changes, updates, commits can be made independently of the master.  This can rejoin the master branch if required, \\nthrough an accepted pull-request \\nClone Downloading a copy of a repository to your local computer.  From there changes can be made and pushed back to the remote repository (with required permission) \\nCommit Similar to “save” - if we’re happy with the changes and we want to “commit” them.  If working from a local repository, you will need to commit and then push \\nchanges in order for the changes to be made in the remote repository.  Each commit has a unique commit ID used for moving between versions \\nFork Copying a repo and it’s entire history from one account to another \\nMerge Accepting and adding updated logic from a secondary branch to the master/main branch', metadata={'source': '..\\\\data\\\\Key Github Lingo for Data Science.pdf', 'page': 0}), Document(page_content='Commit Similar to “save” - if we’re happy with the changes and we want to “commit” them.  If working from a local repository, you will need to commit and then push \\nchanges in order for the changes to be made in the remote repository.  Each commit has a unique commit ID used for moving between versions \\nFork Copying a repo and it’s entire history from one account to another \\nMerge Accepting and adding updated logic from a secondary branch to the master/main branch \\nMerge Conﬂict When two branches contain different changes to the same area of a ﬁle.  The owner of the master/main branch would be presented with options to resolve the \\nconﬂict.  Once the conﬂict has been resolved then the merge can take place. \\nPull & Push Pull is the process of bringing changes/ﬁles to your location from an external repository.  Push is the process of moving ﬁles changes/ﬁles to an external location \\nfrom your current repository', metadata={'source': '..\\\\data\\\\Key Github Lingo for Data Science.pdf', 'page': 0}), Document(page_content='Merge Conﬂict When two branches contain different changes to the same area of a ﬁle.  The owner of the master/main branch would be presented with options to resolve the \\nconﬂict.  Once the conﬂict has been resolved then the merge can take place. \\nPull & Push Pull is the process of bringing changes/ﬁles to your location from an external repository.  Push is the process of moving ﬁles changes/ﬁles to an external location \\nfrom your current repository \\nREADME ﬁle A text ﬁle that is often used to explain what is contained within the repository.  It is created and editing using Markdown code. \\nRepository A project directory.  It can contain folders, ﬁles, and documentation as well as each ﬁle’s revision history The Essential Github Lingo for Data Science', metadata={'source': '..\\\\data\\\\Key Github Lingo for Data Science.pdf', 'page': 0})]\n"
     ]
    }
   ],
   "source": [
    "text_spliter = RecursiveCharacterTextSplitter(chunk_size = 1000,\n",
    "                               chunk_overlap = 500)\n",
    "docs = text_spliter.split_documents(documents)\n",
    "print(docs)"
   ]
  },
  {
   "cell_type": "code",
   "execution_count": 11,
   "metadata": {},
   "outputs": [
    {
     "data": {
      "text/plain": [
       "3"
      ]
     },
     "execution_count": 11,
     "metadata": {},
     "output_type": "execute_result"
    }
   ],
   "source": [
    "len(docs)"
   ]
  },
  {
   "cell_type": "code",
   "execution_count": null,
   "metadata": {},
   "outputs": [],
   "source": []
  },
  {
   "cell_type": "code",
   "execution_count": null,
   "metadata": {},
   "outputs": [],
   "source": []
  }
 ],
 "metadata": {
  "kernelspec": {
   "display_name": "awsbedrock",
   "language": "python",
   "name": "python3"
  },
  "language_info": {
   "codemirror_mode": {
    "name": "ipython",
    "version": 3
   },
   "file_extension": ".py",
   "mimetype": "text/x-python",
   "name": "python",
   "nbconvert_exporter": "python",
   "pygments_lexer": "ipython3",
   "version": "3.8.19"
  }
 },
 "nbformat": 4,
 "nbformat_minor": 2
}
